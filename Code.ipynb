{
 "cells": [
  {
   "cell_type": "markdown",
   "metadata": {},
   "source": [
    "# Objective:\n",
    "You work for Spark Funds, an asset management company. Spark Funds wants to make investments in a few companies. The CEO of Spark Funds wants to understand the global trends in investments so that she can take the investment decisions effectively."
   ]
  },
  {
   "cell_type": "markdown",
   "metadata": {},
   "source": [
    "## Business and Data Understanding:\n",
    "Spark Funds has two minor constraints for investments:\n",
    "1. It wants to invest between 5 to 15 million USD per round of investment\n",
    "2. It wants to invest only in English-speaking countries because of the ease of communication with the companies it would invest in"
   ]
  },
  {
   "cell_type": "markdown",
   "metadata": {},
   "source": [
    "## Business objective: \n",
    "The objective is to identify the best sectors, countries, and a suitable investment type for making investments. The overall strategy is to invest where others are investing, implying that the 'best' sectors and countries are the ones 'where most investors are investing'."
   ]
  },
  {
   "cell_type": "markdown",
   "metadata": {},
   "source": [
    "Importing Libraries"
   ]
  },
  {
   "cell_type": "code",
   "execution_count": 1,
   "metadata": {},
   "outputs": [],
   "source": [
    "# Supress Warnings\n",
    "\n",
    "import warnings\n",
    "warnings.filterwarnings('ignore')\n",
    "\n",
    "# Import the numpy and pandas packages\n",
    "\n",
    "import numpy as np\n",
    "import pandas as pd\n",
    "import matplotlib.pyplot as plt\n",
    "import seaborn as sns"
   ]
  },
  {
   "cell_type": "markdown",
   "metadata": {},
   "source": [
    "### Checkpoint 1: Data Cleaning \n",
    "Reading and Cleaning Data\n",
    "\n",
    "\n",
    "Load the companies and rounds data into two data frames and name them companies and rounds2 respectively."
   ]
  },
  {
   "cell_type": "code",
   "execution_count": 2,
   "metadata": {},
   "outputs": [
    {
     "data": {
      "text/html": [
       "<div>\n",
       "<style scoped>\n",
       "    .dataframe tbody tr th:only-of-type {\n",
       "        vertical-align: middle;\n",
       "    }\n",
       "\n",
       "    .dataframe tbody tr th {\n",
       "        vertical-align: top;\n",
       "    }\n",
       "\n",
       "    .dataframe thead th {\n",
       "        text-align: right;\n",
       "    }\n",
       "</style>\n",
       "<table border=\"1\" class=\"dataframe\">\n",
       "  <thead>\n",
       "    <tr style=\"text-align: right;\">\n",
       "      <th></th>\n",
       "      <th>permalink</th>\n",
       "      <th>name</th>\n",
       "      <th>homepage_url</th>\n",
       "      <th>category_list</th>\n",
       "      <th>status</th>\n",
       "      <th>country_code</th>\n",
       "      <th>state_code</th>\n",
       "      <th>region</th>\n",
       "      <th>city</th>\n",
       "      <th>founded_at</th>\n",
       "    </tr>\n",
       "  </thead>\n",
       "  <tbody>\n",
       "    <tr>\n",
       "      <th>0</th>\n",
       "      <td>/Organization/-Fame</td>\n",
       "      <td>#fame</td>\n",
       "      <td>http://livfame.com</td>\n",
       "      <td>Media</td>\n",
       "      <td>operating</td>\n",
       "      <td>IND</td>\n",
       "      <td>16</td>\n",
       "      <td>Mumbai</td>\n",
       "      <td>Mumbai</td>\n",
       "      <td>NaN</td>\n",
       "    </tr>\n",
       "    <tr>\n",
       "      <th>1</th>\n",
       "      <td>/Organization/-Qounter</td>\n",
       "      <td>:Qounter</td>\n",
       "      <td>http://www.qounter.com</td>\n",
       "      <td>Application Platforms|Real Time|Social Network...</td>\n",
       "      <td>operating</td>\n",
       "      <td>USA</td>\n",
       "      <td>DE</td>\n",
       "      <td>DE - Other</td>\n",
       "      <td>Delaware City</td>\n",
       "      <td>04-09-2014</td>\n",
       "    </tr>\n",
       "    <tr>\n",
       "      <th>2</th>\n",
       "      <td>/Organization/-The-One-Of-Them-Inc-</td>\n",
       "      <td>(THE) ONE of THEM,Inc.</td>\n",
       "      <td>http://oneofthem.jp</td>\n",
       "      <td>Apps|Games|Mobile</td>\n",
       "      <td>operating</td>\n",
       "      <td>NaN</td>\n",
       "      <td>NaN</td>\n",
       "      <td>NaN</td>\n",
       "      <td>NaN</td>\n",
       "      <td>NaN</td>\n",
       "    </tr>\n",
       "    <tr>\n",
       "      <th>3</th>\n",
       "      <td>/Organization/0-6-Com</td>\n",
       "      <td>0-6.com</td>\n",
       "      <td>http://www.0-6.com</td>\n",
       "      <td>Curated Web</td>\n",
       "      <td>operating</td>\n",
       "      <td>CHN</td>\n",
       "      <td>22</td>\n",
       "      <td>Beijing</td>\n",
       "      <td>Beijing</td>\n",
       "      <td>01-01-2007</td>\n",
       "    </tr>\n",
       "    <tr>\n",
       "      <th>4</th>\n",
       "      <td>/Organization/004-Technologies</td>\n",
       "      <td>004 Technologies</td>\n",
       "      <td>http://004gmbh.de/en/004-interact</td>\n",
       "      <td>Software</td>\n",
       "      <td>operating</td>\n",
       "      <td>USA</td>\n",
       "      <td>IL</td>\n",
       "      <td>Springfield, Illinois</td>\n",
       "      <td>Champaign</td>\n",
       "      <td>01-01-2010</td>\n",
       "    </tr>\n",
       "  </tbody>\n",
       "</table>\n",
       "</div>"
      ],
      "text/plain": [
       "                             permalink                    name  \\\n",
       "0                  /Organization/-Fame                   #fame   \n",
       "1               /Organization/-Qounter                :Qounter   \n",
       "2  /Organization/-The-One-Of-Them-Inc-  (THE) ONE of THEM,Inc.   \n",
       "3                /Organization/0-6-Com                 0-6.com   \n",
       "4       /Organization/004-Technologies        004 Technologies   \n",
       "\n",
       "                        homepage_url  \\\n",
       "0                 http://livfame.com   \n",
       "1             http://www.qounter.com   \n",
       "2                http://oneofthem.jp   \n",
       "3                 http://www.0-6.com   \n",
       "4  http://004gmbh.de/en/004-interact   \n",
       "\n",
       "                                       category_list     status country_code  \\\n",
       "0                                              Media  operating          IND   \n",
       "1  Application Platforms|Real Time|Social Network...  operating          USA   \n",
       "2                                  Apps|Games|Mobile  operating          NaN   \n",
       "3                                        Curated Web  operating          CHN   \n",
       "4                                           Software  operating          USA   \n",
       "\n",
       "  state_code                 region           city  founded_at  \n",
       "0         16                 Mumbai         Mumbai         NaN  \n",
       "1         DE             DE - Other  Delaware City  04-09-2014  \n",
       "2        NaN                    NaN            NaN         NaN  \n",
       "3         22                Beijing        Beijing  01-01-2007  \n",
       "4         IL  Springfield, Illinois      Champaign  01-01-2010  "
      ]
     },
     "execution_count": 2,
     "metadata": {},
     "output_type": "execute_result"
    }
   ],
   "source": [
    "companies = pd.read_csv('companies.csv',encoding='ISO-8859-1',sep=',')\n",
    "companies.permalink = companies.permalink.str.encode('ISO-8859-1').str.decode('ascii', 'ignore')\n",
    "companies.name = companies.name.str.encode('ISO-8859-1').str.decode('ascii', 'ignore')\n",
    "companies.head()"
   ]
  },
  {
   "cell_type": "code",
   "execution_count": 3,
   "metadata": {},
   "outputs": [
    {
     "data": {
      "text/html": [
       "<div>\n",
       "<style scoped>\n",
       "    .dataframe tbody tr th:only-of-type {\n",
       "        vertical-align: middle;\n",
       "    }\n",
       "\n",
       "    .dataframe tbody tr th {\n",
       "        vertical-align: top;\n",
       "    }\n",
       "\n",
       "    .dataframe thead th {\n",
       "        text-align: right;\n",
       "    }\n",
       "</style>\n",
       "<table border=\"1\" class=\"dataframe\">\n",
       "  <thead>\n",
       "    <tr style=\"text-align: right;\">\n",
       "      <th></th>\n",
       "      <th>company_permalink</th>\n",
       "      <th>funding_round_permalink</th>\n",
       "      <th>funding_round_type</th>\n",
       "      <th>funding_round_code</th>\n",
       "      <th>funded_at</th>\n",
       "      <th>raised_amount_usd</th>\n",
       "    </tr>\n",
       "  </thead>\n",
       "  <tbody>\n",
       "    <tr>\n",
       "      <th>0</th>\n",
       "      <td>/organization/-fame</td>\n",
       "      <td>/funding-round/9a01d05418af9f794eebff7ace91f638</td>\n",
       "      <td>venture</td>\n",
       "      <td>B</td>\n",
       "      <td>05-01-2015</td>\n",
       "      <td>10000000.0</td>\n",
       "    </tr>\n",
       "    <tr>\n",
       "      <th>1</th>\n",
       "      <td>/ORGANIZATION/-QOUNTER</td>\n",
       "      <td>/funding-round/22dacff496eb7acb2b901dec1dfe5633</td>\n",
       "      <td>venture</td>\n",
       "      <td>A</td>\n",
       "      <td>14-10-2014</td>\n",
       "      <td>NaN</td>\n",
       "    </tr>\n",
       "    <tr>\n",
       "      <th>2</th>\n",
       "      <td>/organization/-qounter</td>\n",
       "      <td>/funding-round/b44fbb94153f6cdef13083530bb48030</td>\n",
       "      <td>seed</td>\n",
       "      <td>NaN</td>\n",
       "      <td>01-03-2014</td>\n",
       "      <td>700000.0</td>\n",
       "    </tr>\n",
       "    <tr>\n",
       "      <th>3</th>\n",
       "      <td>/ORGANIZATION/-THE-ONE-OF-THEM-INC-</td>\n",
       "      <td>/funding-round/650b8f704416801069bb178a1418776b</td>\n",
       "      <td>venture</td>\n",
       "      <td>B</td>\n",
       "      <td>30-01-2014</td>\n",
       "      <td>3406878.0</td>\n",
       "    </tr>\n",
       "    <tr>\n",
       "      <th>4</th>\n",
       "      <td>/organization/0-6-com</td>\n",
       "      <td>/funding-round/5727accaeaa57461bd22a9bdd945382d</td>\n",
       "      <td>venture</td>\n",
       "      <td>A</td>\n",
       "      <td>19-03-2008</td>\n",
       "      <td>2000000.0</td>\n",
       "    </tr>\n",
       "  </tbody>\n",
       "</table>\n",
       "</div>"
      ],
      "text/plain": [
       "                     company_permalink  \\\n",
       "0                  /organization/-fame   \n",
       "1               /ORGANIZATION/-QOUNTER   \n",
       "2               /organization/-qounter   \n",
       "3  /ORGANIZATION/-THE-ONE-OF-THEM-INC-   \n",
       "4                /organization/0-6-com   \n",
       "\n",
       "                           funding_round_permalink funding_round_type  \\\n",
       "0  /funding-round/9a01d05418af9f794eebff7ace91f638            venture   \n",
       "1  /funding-round/22dacff496eb7acb2b901dec1dfe5633            venture   \n",
       "2  /funding-round/b44fbb94153f6cdef13083530bb48030               seed   \n",
       "3  /funding-round/650b8f704416801069bb178a1418776b            venture   \n",
       "4  /funding-round/5727accaeaa57461bd22a9bdd945382d            venture   \n",
       "\n",
       "  funding_round_code   funded_at  raised_amount_usd  \n",
       "0                  B  05-01-2015         10000000.0  \n",
       "1                  A  14-10-2014                NaN  \n",
       "2                NaN  01-03-2014           700000.0  \n",
       "3                  B  30-01-2014          3406878.0  \n",
       "4                  A  19-03-2008          2000000.0  "
      ]
     },
     "execution_count": 3,
     "metadata": {},
     "output_type": "execute_result"
    }
   ],
   "source": [
    "rounds2 = pd.read_csv('rounds2.csv',encoding='ISO-8859-1')\n",
    "rounds2.company_permalink = rounds2.company_permalink.str.encode('ISO-8859-1').str.decode('ascii', 'ignore')\n",
    "rounds2.head()"
   ]
  },
  {
   "cell_type": "markdown",
   "metadata": {},
   "source": [
    "### Understand the Data Set \n",
    "\n",
    "1. How many unique companies are present in rounds2?\t\n",
    "2. How many unique companies are present in companies?\t                       \n",
    "3. In the companies data frame, which column can be used as the unique key for each company? Write the name of the column.\t \n",
    "4. Are there any companies in the rounds2 file which are not present in companies? Answer yes or no: Y/N\t \n",
    "5. Merge the two data frames so that all variables (columns) in the companies frame are added to the rounds2 data frame. Name the merged frame master_frame. How many observations are present in master_frame?"
   ]
  },
  {
   "cell_type": "markdown",
   "metadata": {},
   "source": [
    "Getting Shape of Companies Dataframe"
   ]
  },
  {
   "cell_type": "code",
   "execution_count": 4,
   "metadata": {},
   "outputs": [
    {
     "data": {
      "text/plain": [
       "(66368, 10)"
      ]
     },
     "execution_count": 4,
     "metadata": {},
     "output_type": "execute_result"
    }
   ],
   "source": [
    "companies.shape"
   ]
  },
  {
   "cell_type": "markdown",
   "metadata": {},
   "source": [
    "Getting Shape of Rounds Dataframe"
   ]
  },
  {
   "cell_type": "code",
   "execution_count": 5,
   "metadata": {},
   "outputs": [
    {
     "data": {
      "text/plain": [
       "(114949, 6)"
      ]
     },
     "execution_count": 5,
     "metadata": {},
     "output_type": "execute_result"
    }
   ],
   "source": [
    "rounds2.shape"
   ]
  },
  {
   "cell_type": "markdown",
   "metadata": {},
   "source": [
    "Creating unique in Upper case in Both datframe in order to remove Case Sensitivity"
   ]
  },
  {
   "cell_type": "code",
   "execution_count": 6,
   "metadata": {},
   "outputs": [],
   "source": [
    "companies[\"permalink\"] = companies['permalink'].str.upper()\n",
    "rounds2[\"company_permalink\"] = rounds2['company_permalink'].str.upper()"
   ]
  },
  {
   "cell_type": "markdown",
   "metadata": {},
   "source": [
    "## How many unique companies are present in rounds2?"
   ]
  },
  {
   "cell_type": "code",
   "execution_count": 7,
   "metadata": {},
   "outputs": [
    {
     "data": {
      "text/plain": [
       "66368"
      ]
     },
     "execution_count": 7,
     "metadata": {},
     "output_type": "execute_result"
    }
   ],
   "source": [
    "# Unique Companies in rounds2 Dataframe\n",
    "len(rounds2['company_permalink'].unique())"
   ]
  },
  {
   "cell_type": "markdown",
   "metadata": {},
   "source": [
    "## How many unique companies are present in companies?"
   ]
  },
  {
   "cell_type": "code",
   "execution_count": 8,
   "metadata": {},
   "outputs": [
    {
     "data": {
      "text/plain": [
       "66368"
      ]
     },
     "execution_count": 8,
     "metadata": {},
     "output_type": "execute_result"
    }
   ],
   "source": [
    "# Unique Companies in companies Dataframe\n",
    "len(companies['permalink'].unique())"
   ]
  },
  {
   "cell_type": "markdown",
   "metadata": {},
   "source": [
    "## Are there any companies in the rounds2 file which are not present in companies? Answer yes or no: Y/N"
   ]
  },
  {
   "cell_type": "code",
   "execution_count": 9,
   "metadata": {},
   "outputs": [
    {
     "data": {
      "text/plain": [
       "True"
      ]
     },
     "execution_count": 9,
     "metadata": {},
     "output_type": "execute_result"
    }
   ],
   "source": [
    "set(companies['permalink']) == set(rounds2['company_permalink'])"
   ]
  },
  {
   "cell_type": "markdown",
   "metadata": {},
   "source": [
    "Merging Two Dataframes on Respective UniqueKey Column."
   ]
  },
  {
   "cell_type": "code",
   "execution_count": 10,
   "metadata": {},
   "outputs": [],
   "source": [
    "master_frame=pd.merge(rounds2, companies, how=\"left\", left_on='company_permalink',right_on='permalink')"
   ]
  },
  {
   "cell_type": "markdown",
   "metadata": {},
   "source": [
    "## How many observations are present in master_frame?"
   ]
  },
  {
   "cell_type": "markdown",
   "metadata": {},
   "source": [
    "Getting Shape of Master Dataframe"
   ]
  },
  {
   "cell_type": "code",
   "execution_count": 11,
   "metadata": {},
   "outputs": [
    {
     "data": {
      "text/plain": [
       "(114949, 16)"
      ]
     },
     "execution_count": 11,
     "metadata": {},
     "output_type": "execute_result"
    }
   ],
   "source": [
    "master_frame.shape"
   ]
  },
  {
   "cell_type": "markdown",
   "metadata": {},
   "source": [
    "### Checkpoint 2: Funding Type Analysis\n",
    "\n",
    "Cleaning the Data\n",
    "\n",
    "\n",
    "1. Inspecting Null Values\n",
    "2. Dropping unnecessary columns\n",
    "3. Dropping unnecessary rows"
   ]
  },
  {
   "cell_type": "code",
   "execution_count": 12,
   "metadata": {},
   "outputs": [
    {
     "data": {
      "text/plain": [
       "company_permalink              0\n",
       "funding_round_permalink        0\n",
       "funding_round_type             0\n",
       "funding_round_code         83809\n",
       "funded_at                      0\n",
       "raised_amount_usd          19990\n",
       "permalink                      0\n",
       "name                           1\n",
       "homepage_url                6134\n",
       "category_list               3410\n",
       "status                         0\n",
       "country_code                8678\n",
       "state_code                 10946\n",
       "region                     10167\n",
       "city                       10164\n",
       "founded_at                 20521\n",
       "dtype: int64"
      ]
     },
     "execution_count": 12,
     "metadata": {},
     "output_type": "execute_result"
    }
   ],
   "source": [
    "#Inspecting null Values across all columns\n",
    "master_frame.isnull().sum()"
   ]
  },
  {
   "cell_type": "code",
   "execution_count": 13,
   "metadata": {},
   "outputs": [
    {
     "data": {
      "text/plain": [
       "company_permalink           0.00\n",
       "funding_round_permalink     0.00\n",
       "funding_round_type          0.00\n",
       "funding_round_code         72.91\n",
       "funded_at                   0.00\n",
       "raised_amount_usd          17.39\n",
       "permalink                   0.00\n",
       "name                        0.00\n",
       "homepage_url                5.34\n",
       "category_list               2.97\n",
       "status                      0.00\n",
       "country_code                7.55\n",
       "state_code                  9.52\n",
       "region                      8.84\n",
       "city                        8.84\n",
       "founded_at                 17.85\n",
       "dtype: float64"
      ]
     },
     "execution_count": 13,
     "metadata": {},
     "output_type": "execute_result"
    }
   ],
   "source": [
    "#Inspecting null Values Percentage\n",
    "(round(100*(master_frame.isnull().sum()/len(master_frame.index)), 2))"
   ]
  },
  {
   "cell_type": "markdown",
   "metadata": {},
   "source": [
    "### Dropping unnecessary columns\n",
    "For Sparks Funds, we are mostly driving our analysis based on funding round type, category, country etc. Hence, so many columns present in the master_frame are not needed, we will drop those columns."
   ]
  },
  {
   "cell_type": "code",
   "execution_count": 14,
   "metadata": {},
   "outputs": [],
   "source": [
    "master_frame= master_frame.drop(['funding_round_permalink', 'funding_round_code', 'funded_at','permalink', 'homepage_url',\n",
    "                                 'status','state_code', 'region', 'city', 'founded_at'],axis=1)"
   ]
  },
  {
   "cell_type": "code",
   "execution_count": 15,
   "metadata": {},
   "outputs": [
    {
     "data": {
      "text/plain": [
       "company_permalink      0.00\n",
       "funding_round_type     0.00\n",
       "raised_amount_usd     17.39\n",
       "name                   0.00\n",
       "category_list          2.97\n",
       "country_code           7.55\n",
       "dtype: float64"
      ]
     },
     "execution_count": 15,
     "metadata": {},
     "output_type": "execute_result"
    }
   ],
   "source": [
    "#Inspecting null Values Percentage Again\n",
    "(round(100*(master_frame.isnull().sum()/len(master_frame.index)), 2))"
   ]
  },
  {
   "cell_type": "markdown",
   "metadata": {},
   "source": [
    "### Removing rows with Null Values "
   ]
  },
  {
   "cell_type": "code",
   "execution_count": 16,
   "metadata": {},
   "outputs": [],
   "source": [
    "master_frame.dropna(inplace=True)"
   ]
  },
  {
   "cell_type": "code",
   "execution_count": 17,
   "metadata": {},
   "outputs": [
    {
     "data": {
      "text/plain": [
       "company_permalink     0.0\n",
       "funding_round_type    0.0\n",
       "raised_amount_usd     0.0\n",
       "name                  0.0\n",
       "category_list         0.0\n",
       "country_code          0.0\n",
       "dtype: float64"
      ]
     },
     "execution_count": 17,
     "metadata": {},
     "output_type": "execute_result"
    }
   ],
   "source": [
    "#Inspecting null Values Percentage Again\n",
    "(round(100*(master_frame.isnull().sum()/len(master_frame.index)), 2))"
   ]
  },
  {
   "cell_type": "code",
   "execution_count": 18,
   "metadata": {},
   "outputs": [
    {
     "name": "stdout",
     "output_type": "stream",
     "text": [
      "77.01502405414575\n"
     ]
    }
   ],
   "source": [
    "#Data Retained\n",
    "print(100*(len(master_frame.index)/114949))"
   ]
  },
  {
   "cell_type": "code",
   "execution_count": 19,
   "metadata": {},
   "outputs": [
    {
     "data": {
      "text/plain": [
       "(88528, 6)"
      ]
     },
     "execution_count": 19,
     "metadata": {},
     "output_type": "execute_result"
    }
   ],
   "source": [
    "master_frame.shape"
   ]
  },
  {
   "cell_type": "markdown",
   "metadata": {},
   "source": [
    "### Calculate the most representative value of the investment amount for each of the four funding types (venture, angel, seed, and private equity) "
   ]
  },
  {
   "cell_type": "markdown",
   "metadata": {},
   "source": [
    "Retain only four funding types (venture, angel, seed, and private equity)"
   ]
  },
  {
   "cell_type": "code",
   "execution_count": 20,
   "metadata": {},
   "outputs": [
    {
     "data": {
      "text/plain": [
       "venture                  47809\n",
       "seed                     21094\n",
       "debt_financing            6506\n",
       "angel                     4400\n",
       "grant                     1939\n",
       "private_equity            1820\n",
       "undisclosed               1345\n",
       "convertible_note          1320\n",
       "equity_crowdfunding       1128\n",
       "post_ipo_equity            598\n",
       "product_crowdfunding       330\n",
       "post_ipo_debt              151\n",
       "non_equity_assistance       60\n",
       "secondary_market            28\n",
       "Name: funding_round_type, dtype: int64"
      ]
     },
     "execution_count": 20,
     "metadata": {},
     "output_type": "execute_result"
    }
   ],
   "source": [
    "master_frame.funding_round_type.value_counts()"
   ]
  },
  {
   "cell_type": "code",
   "execution_count": 21,
   "metadata": {},
   "outputs": [],
   "source": [
    "master_frame = master_frame[master_frame.funding_round_type.isin(['venture','seed','angel','private_equity'])]"
   ]
  },
  {
   "cell_type": "code",
   "execution_count": 22,
   "metadata": {},
   "outputs": [
    {
     "data": {
      "text/plain": [
       "funding_round_type\n",
       "angel               971573.89\n",
       "private_equity    73938486.28\n",
       "seed                747827.95\n",
       "venture           11724222.69\n",
       "Name: raised_amount_usd, dtype: float64"
      ]
     },
     "execution_count": 22,
     "metadata": {},
     "output_type": "execute_result"
    }
   ],
   "source": [
    "#calculating average investment amount for each of the four funding types.\n",
    "round(master_frame.groupby(['funding_round_type']).raised_amount_usd.mean(), 2)"
   ]
  },
  {
   "cell_type": "code",
   "execution_count": 23,
   "metadata": {},
   "outputs": [
    {
     "data": {
      "image/png": "[encoded data removed]",
      "text/plain": [
       "<Figure size 720x360 with 1 Axes>"
      ]
     },
     "metadata": {
      "needs_background": "light"
     },
     "output_type": "display_data"
    }
   ],
   "source": [
    "df = master_frame.groupby(['funding_round_type']).raised_amount_usd.mean().reset_index()\n",
    "plt.figure(figsize=[10,5])\n",
    "sns.barplot(df.funding_round_type,df.raised_amount_usd)\n",
    "plt.title(\"Average amount Across Different Funding Type\") \n",
    "plt.show()"
   ]
  },
  {
   "cell_type": "markdown",
   "metadata": {},
   "source": [
    "Considering that Spark Funds wants to invest between 5 to 15 million USD per investment round, which investment type is the most suitable for it? Identify the investment type and, for further analysis, filter the data so it only contains the chosen investment type.\n",
    "\n",
    "<b>Since Amount to invest is between 5 to 15 Million USD, On venture is Satisfying that criteria.<b>"
   ]
  },
  {
   "cell_type": "code",
   "execution_count": 24,
   "metadata": {},
   "outputs": [],
   "source": [
    "# Filtering Data and keeping funding_round_type only as venture\n",
    "master_frame=master_frame[master_frame.funding_round_type=='venture']"
   ]
  },
  {
   "cell_type": "code",
   "execution_count": 25,
   "metadata": {},
   "outputs": [],
   "source": [
    "# dropping funding_round_type column as all the values are ventures only\n",
    "master_frame = master_frame.drop(['funding_round_type'], axis = 1)"
   ]
  },
  {
   "cell_type": "code",
   "execution_count": 26,
   "metadata": {},
   "outputs": [
    {
     "data": {
      "text/plain": [
       "(47809, 5)"
      ]
     },
     "execution_count": 26,
     "metadata": {},
     "output_type": "execute_result"
    }
   ],
   "source": [
    "master_frame.shape"
   ]
  },
  {
   "cell_type": "markdown",
   "metadata": {},
   "source": [
    "### Checkpoint 3: Country Analysis\n",
    "\n",
    "Spark Funds wants to invest in countries with the highest amount of funding for the chosen investment type. This is a part of its broader strategy to invest where most investments are occurring.\n",
    "1. Spark Funds wants to see the top nine countries which have received the highest total funding (across ALL sectors for the chosen investment type)\n",
    "2. For the chosen investment type, make a data frame named top9 with the top nine countries (based on the total investment amount each country has received)\n",
    "\n",
    "Identify the top three English-speaking countries in the data frame top9."
   ]
  },
  {
   "cell_type": "code",
   "execution_count": 27,
   "metadata": {},
   "outputs": [
    {
     "name": "stdout",
     "output_type": "stream",
     "text": [
      "   country_code  raised_amount_usd\n",
      "94          USA       4.200680e+11\n",
      "15          CHN       3.933892e+10\n",
      "29          GBR       2.007281e+10\n",
      "39          IND       1.426151e+10\n",
      "12          CAN       9.482218e+09\n",
      "28          FRA       7.226851e+09\n",
      "42          ISR       6.854350e+09\n",
      "21          DEU       6.306922e+09\n",
      "45          JPN       3.167647e+09\n"
     ]
    }
   ],
   "source": [
    "top9 = master_frame.groupby(['country_code'])['raised_amount_usd'].agg(\"sum\").reset_index().sort_values('raised_amount_usd',ascending=False).iloc[:9]\n",
    "print(top9)"
   ]
  },
  {
   "cell_type": "code",
   "execution_count": 28,
   "metadata": {},
   "outputs": [
    {
     "data": {
      "image/png": "[encoded data removed]",
      "text/plain": [
       "<Figure size 720x360 with 1 Axes>"
      ]
     },
     "metadata": {
      "needs_background": "light"
     },
     "output_type": "display_data"
    }
   ],
   "source": [
    "plt.figure(figsize=[10,5])\n",
    "sns.barplot(top9.country_code,top9.raised_amount_usd)\n",
    "plt.title(\"Amount Invested in the Top 9 Countries\") \n",
    "plt.show()"
   ]
  },
  {
   "cell_type": "code",
   "execution_count": 29,
   "metadata": {},
   "outputs": [],
   "source": [
    "#Filtering data on top 3 English speaking Countries \n",
    "master_frame=master_frame[master_frame.country_code.isin(['USA','GBR','IND'])]"
   ]
  },
  {
   "cell_type": "markdown",
   "metadata": {},
   "source": [
    "### Checkpoint 4: Sector Analysis 1\n",
    "1. Extract the primary sector of each category list from the category_list column\n",
    "1. Use the mapping file 'mapping.csv' to map each primary sector to one of the eight main sectors (Note that ‘Others’ is also considered one of the main sectors)"
   ]
  },
  {
   "cell_type": "code",
   "execution_count": 30,
   "metadata": {},
   "outputs": [],
   "source": [
    "#Extract Primary Sector only\n",
    "master_frame.category_list = master_frame.category_list.apply(lambda x:x.split(\"|\")[0])"
   ]
  },
  {
   "cell_type": "markdown",
   "metadata": {},
   "source": [
    "### Read Mapping file and Map the same to one of the eight main sector"
   ]
  },
  {
   "cell_type": "code",
   "execution_count": 31,
   "metadata": {},
   "outputs": [
    {
     "data": {
      "text/html": [
       "<div>\n",
       "<style scoped>\n",
       "    .dataframe tbody tr th:only-of-type {\n",
       "        vertical-align: middle;\n",
       "    }\n",
       "\n",
       "    .dataframe tbody tr th {\n",
       "        vertical-align: top;\n",
       "    }\n",
       "\n",
       "    .dataframe thead th {\n",
       "        text-align: right;\n",
       "    }\n",
       "</style>\n",
       "<table border=\"1\" class=\"dataframe\">\n",
       "  <thead>\n",
       "    <tr style=\"text-align: right;\">\n",
       "      <th></th>\n",
       "      <th>category_list</th>\n",
       "      <th>Automotive &amp; Sports</th>\n",
       "      <th>Blanks</th>\n",
       "      <th>Cleantech / Semiconductors</th>\n",
       "      <th>Entertainment</th>\n",
       "      <th>Health</th>\n",
       "      <th>Manufacturing</th>\n",
       "      <th>News, Search and Messaging</th>\n",
       "      <th>Others</th>\n",
       "      <th>Social, Finance, Analytics, Advertising</th>\n",
       "    </tr>\n",
       "  </thead>\n",
       "  <tbody>\n",
       "    <tr>\n",
       "      <th>0</th>\n",
       "      <td>NaN</td>\n",
       "      <td>0</td>\n",
       "      <td>1</td>\n",
       "      <td>0</td>\n",
       "      <td>0</td>\n",
       "      <td>0</td>\n",
       "      <td>0</td>\n",
       "      <td>0</td>\n",
       "      <td>0</td>\n",
       "      <td>0</td>\n",
       "    </tr>\n",
       "    <tr>\n",
       "      <th>1</th>\n",
       "      <td>3D</td>\n",
       "      <td>0</td>\n",
       "      <td>0</td>\n",
       "      <td>0</td>\n",
       "      <td>0</td>\n",
       "      <td>0</td>\n",
       "      <td>1</td>\n",
       "      <td>0</td>\n",
       "      <td>0</td>\n",
       "      <td>0</td>\n",
       "    </tr>\n",
       "    <tr>\n",
       "      <th>2</th>\n",
       "      <td>3D Printing</td>\n",
       "      <td>0</td>\n",
       "      <td>0</td>\n",
       "      <td>0</td>\n",
       "      <td>0</td>\n",
       "      <td>0</td>\n",
       "      <td>1</td>\n",
       "      <td>0</td>\n",
       "      <td>0</td>\n",
       "      <td>0</td>\n",
       "    </tr>\n",
       "    <tr>\n",
       "      <th>3</th>\n",
       "      <td>3D Technology</td>\n",
       "      <td>0</td>\n",
       "      <td>0</td>\n",
       "      <td>0</td>\n",
       "      <td>0</td>\n",
       "      <td>0</td>\n",
       "      <td>1</td>\n",
       "      <td>0</td>\n",
       "      <td>0</td>\n",
       "      <td>0</td>\n",
       "    </tr>\n",
       "    <tr>\n",
       "      <th>4</th>\n",
       "      <td>Accounting</td>\n",
       "      <td>0</td>\n",
       "      <td>0</td>\n",
       "      <td>0</td>\n",
       "      <td>0</td>\n",
       "      <td>0</td>\n",
       "      <td>0</td>\n",
       "      <td>0</td>\n",
       "      <td>0</td>\n",
       "      <td>1</td>\n",
       "    </tr>\n",
       "  </tbody>\n",
       "</table>\n",
       "</div>"
      ],
      "text/plain": [
       "   category_list  Automotive & Sports  Blanks  Cleantech / Semiconductors  \\\n",
       "0            NaN                    0       1                           0   \n",
       "1             3D                    0       0                           0   \n",
       "2    3D Printing                    0       0                           0   \n",
       "3  3D Technology                    0       0                           0   \n",
       "4     Accounting                    0       0                           0   \n",
       "\n",
       "   Entertainment  Health  Manufacturing  News, Search and Messaging  Others  \\\n",
       "0              0       0              0                           0       0   \n",
       "1              0       0              1                           0       0   \n",
       "2              0       0              1                           0       0   \n",
       "3              0       0              1                           0       0   \n",
       "4              0       0              0                           0       0   \n",
       "\n",
       "   Social, Finance, Analytics, Advertising  \n",
       "0                                        0  \n",
       "1                                        0  \n",
       "2                                        0  \n",
       "3                                        0  \n",
       "4                                        1  "
      ]
     },
     "execution_count": 31,
     "metadata": {},
     "output_type": "execute_result"
    }
   ],
   "source": [
    "mapping = pd.read_csv(\"mapping.csv\")\n",
    "mapping.head()"
   ]
  },
  {
   "cell_type": "code",
   "execution_count": 32,
   "metadata": {},
   "outputs": [],
   "source": [
    "# Replacing 0 with na. Example A0lytics --> Analytics\n",
    "# Replacing 2.na with 2.0. Exmaple Enterprise 2.na --> Enterprise 2.0\n",
    "mapping.category_list = mapping.category_list.replace({'0':'na','2.na':'2.0'}, regex=True)\n",
    "mapping.category_list = mapping.category_list.replace({'2.na':'2.0'}, regex=True)"
   ]
  },
  {
   "cell_type": "code",
   "execution_count": 33,
   "metadata": {},
   "outputs": [
    {
     "data": {
      "text/html": [
       "<div>\n",
       "<style scoped>\n",
       "    .dataframe tbody tr th:only-of-type {\n",
       "        vertical-align: middle;\n",
       "    }\n",
       "\n",
       "    .dataframe tbody tr th {\n",
       "        vertical-align: top;\n",
       "    }\n",
       "\n",
       "    .dataframe thead th {\n",
       "        text-align: right;\n",
       "    }\n",
       "</style>\n",
       "<table border=\"1\" class=\"dataframe\">\n",
       "  <thead>\n",
       "    <tr style=\"text-align: right;\">\n",
       "      <th></th>\n",
       "      <th>category_list</th>\n",
       "      <th>Sector</th>\n",
       "    </tr>\n",
       "  </thead>\n",
       "  <tbody>\n",
       "    <tr>\n",
       "      <th>8</th>\n",
       "      <td>Adventure Travel</td>\n",
       "      <td>Automotive &amp; Sports</td>\n",
       "    </tr>\n",
       "    <tr>\n",
       "      <th>14</th>\n",
       "      <td>Aerospace</td>\n",
       "      <td>Automotive &amp; Sports</td>\n",
       "    </tr>\n",
       "    <tr>\n",
       "      <th>45</th>\n",
       "      <td>Auto</td>\n",
       "      <td>Automotive &amp; Sports</td>\n",
       "    </tr>\n",
       "    <tr>\n",
       "      <th>46</th>\n",
       "      <td>Automated Kiosk</td>\n",
       "      <td>Automotive &amp; Sports</td>\n",
       "    </tr>\n",
       "    <tr>\n",
       "      <th>47</th>\n",
       "      <td>Automotive</td>\n",
       "      <td>Automotive &amp; Sports</td>\n",
       "    </tr>\n",
       "  </tbody>\n",
       "</table>\n",
       "</div>"
      ],
      "text/plain": [
       "       category_list               Sector\n",
       "8   Adventure Travel  Automotive & Sports\n",
       "14         Aerospace  Automotive & Sports\n",
       "45              Auto  Automotive & Sports\n",
       "46   Automated Kiosk  Automotive & Sports\n",
       "47        Automotive  Automotive & Sports"
      ]
     },
     "execution_count": 33,
     "metadata": {},
     "output_type": "execute_result"
    }
   ],
   "source": [
    "#Using melt() function to unpivot the table.\n",
    "mapping = mapping.melt(id_vars=['category_list'], var_name='Sector')\n",
    "mapping = mapping[mapping.value==1]\n",
    "mapping.drop(['value'],axis=1,inplace=True)\n",
    "mapping.head()"
   ]
  },
  {
   "cell_type": "markdown",
   "metadata": {},
   "source": [
    "### Merging Two Dataframes \n",
    "\n",
    "Type of join is inner hence whatever Category List that are present in Both the dataframes will only be considered"
   ]
  },
  {
   "cell_type": "code",
   "execution_count": 34,
   "metadata": {},
   "outputs": [
    {
     "data": {
      "text/html": [
       "<div>\n",
       "<style scoped>\n",
       "    .dataframe tbody tr th:only-of-type {\n",
       "        vertical-align: middle;\n",
       "    }\n",
       "\n",
       "    .dataframe tbody tr th {\n",
       "        vertical-align: top;\n",
       "    }\n",
       "\n",
       "    .dataframe thead th {\n",
       "        text-align: right;\n",
       "    }\n",
       "</style>\n",
       "<table border=\"1\" class=\"dataframe\">\n",
       "  <thead>\n",
       "    <tr style=\"text-align: right;\">\n",
       "      <th></th>\n",
       "      <th>company_permalink</th>\n",
       "      <th>raised_amount_usd</th>\n",
       "      <th>name</th>\n",
       "      <th>category_list</th>\n",
       "      <th>country_code</th>\n",
       "      <th>Sector</th>\n",
       "    </tr>\n",
       "  </thead>\n",
       "  <tbody>\n",
       "    <tr>\n",
       "      <th>0</th>\n",
       "      <td>/ORGANIZATION/-FAME</td>\n",
       "      <td>10000000.0</td>\n",
       "      <td>#fame</td>\n",
       "      <td>Media</td>\n",
       "      <td>IND</td>\n",
       "      <td>Entertainment</td>\n",
       "    </tr>\n",
       "    <tr>\n",
       "      <th>1</th>\n",
       "      <td>/ORGANIZATION/90MIN</td>\n",
       "      <td>15000000.0</td>\n",
       "      <td>90min</td>\n",
       "      <td>Media</td>\n",
       "      <td>GBR</td>\n",
       "      <td>Entertainment</td>\n",
       "    </tr>\n",
       "    <tr>\n",
       "      <th>2</th>\n",
       "      <td>/ORGANIZATION/90MIN</td>\n",
       "      <td>5800000.0</td>\n",
       "      <td>90min</td>\n",
       "      <td>Media</td>\n",
       "      <td>GBR</td>\n",
       "      <td>Entertainment</td>\n",
       "    </tr>\n",
       "    <tr>\n",
       "      <th>3</th>\n",
       "      <td>/ORGANIZATION/90MIN</td>\n",
       "      <td>18000000.0</td>\n",
       "      <td>90min</td>\n",
       "      <td>Media</td>\n",
       "      <td>GBR</td>\n",
       "      <td>Entertainment</td>\n",
       "    </tr>\n",
       "    <tr>\n",
       "      <th>4</th>\n",
       "      <td>/ORGANIZATION/ALL-DEF-DIGITAL</td>\n",
       "      <td>5000000.0</td>\n",
       "      <td>All Def Digital</td>\n",
       "      <td>Media</td>\n",
       "      <td>USA</td>\n",
       "      <td>Entertainment</td>\n",
       "    </tr>\n",
       "  </tbody>\n",
       "</table>\n",
       "</div>"
      ],
      "text/plain": [
       "               company_permalink  raised_amount_usd             name  \\\n",
       "0            /ORGANIZATION/-FAME         10000000.0            #fame   \n",
       "1            /ORGANIZATION/90MIN         15000000.0            90min   \n",
       "2            /ORGANIZATION/90MIN          5800000.0            90min   \n",
       "3            /ORGANIZATION/90MIN         18000000.0            90min   \n",
       "4  /ORGANIZATION/ALL-DEF-DIGITAL          5000000.0  All Def Digital   \n",
       "\n",
       "  category_list country_code         Sector  \n",
       "0         Media          IND  Entertainment  \n",
       "1         Media          GBR  Entertainment  \n",
       "2         Media          GBR  Entertainment  \n",
       "3         Media          GBR  Entertainment  \n",
       "4         Media          USA  Entertainment  "
      ]
     },
     "execution_count": 34,
     "metadata": {},
     "output_type": "execute_result"
    }
   ],
   "source": [
    "master_frame = master_frame.merge(mapping, how = 'inner', on ='category_list')\n",
    "master_frame.head()"
   ]
  },
  {
   "cell_type": "code",
   "execution_count": 35,
   "metadata": {},
   "outputs": [
    {
     "data": {
      "text/plain": [
       "38642"
      ]
     },
     "execution_count": 35,
     "metadata": {},
     "output_type": "execute_result"
    }
   ],
   "source": [
    "len(master_frame.index)"
   ]
  },
  {
   "cell_type": "markdown",
   "metadata": {},
   "source": [
    "### Checkpoint 5: Sector Analysis 2"
   ]
  },
  {
   "cell_type": "markdown",
   "metadata": {},
   "source": [
    "1. Create three separate data frames D1, D2 and D3 for each of the three countries containing the observations of funding type FT falling within the 5-15 million USD range. \n",
    "2. The three data frames should contain all the columns of the master_frame along with the main sector and the primary sector. \n",
    "3. Using the three data frames, you can calculate the total number of investments and the total amount of investments in each main sector for each of the three countries."
   ]
  },
  {
   "cell_type": "code",
   "execution_count": 36,
   "metadata": {},
   "outputs": [
    {
     "data": {
      "text/html": [
       "<div>\n",
       "<style scoped>\n",
       "    .dataframe tbody tr th:only-of-type {\n",
       "        vertical-align: middle;\n",
       "    }\n",
       "\n",
       "    .dataframe tbody tr th {\n",
       "        vertical-align: top;\n",
       "    }\n",
       "\n",
       "    .dataframe thead th {\n",
       "        text-align: right;\n",
       "    }\n",
       "</style>\n",
       "<table border=\"1\" class=\"dataframe\">\n",
       "  <thead>\n",
       "    <tr style=\"text-align: right;\">\n",
       "      <th></th>\n",
       "      <th>company_permalink</th>\n",
       "      <th>raised_amount_usd</th>\n",
       "      <th>name</th>\n",
       "      <th>category_list</th>\n",
       "      <th>country_code</th>\n",
       "      <th>Sector</th>\n",
       "      <th>sum</th>\n",
       "      <th>count</th>\n",
       "    </tr>\n",
       "  </thead>\n",
       "  <tbody>\n",
       "    <tr>\n",
       "      <th>0</th>\n",
       "      <td>/ORGANIZATION/ALL-DEF-DIGITAL</td>\n",
       "      <td>5000000.0</td>\n",
       "      <td>All Def Digital</td>\n",
       "      <td>Media</td>\n",
       "      <td>USA</td>\n",
       "      <td>Entertainment</td>\n",
       "      <td>5.099198e+09</td>\n",
       "      <td>591</td>\n",
       "    </tr>\n",
       "    <tr>\n",
       "      <th>1</th>\n",
       "      <td>/ORGANIZATION/CHEFS-FEED</td>\n",
       "      <td>5000000.0</td>\n",
       "      <td>ChefsFeed</td>\n",
       "      <td>Media</td>\n",
       "      <td>USA</td>\n",
       "      <td>Entertainment</td>\n",
       "      <td>5.099198e+09</td>\n",
       "      <td>591</td>\n",
       "    </tr>\n",
       "    <tr>\n",
       "      <th>2</th>\n",
       "      <td>/ORGANIZATION/HUFFINGTONPOST</td>\n",
       "      <td>5000000.0</td>\n",
       "      <td>The Huffington Post</td>\n",
       "      <td>Media</td>\n",
       "      <td>USA</td>\n",
       "      <td>Entertainment</td>\n",
       "      <td>5.099198e+09</td>\n",
       "      <td>591</td>\n",
       "    </tr>\n",
       "    <tr>\n",
       "      <th>3</th>\n",
       "      <td>/ORGANIZATION/HUFFINGTONPOST</td>\n",
       "      <td>5000000.0</td>\n",
       "      <td>The Huffington Post</td>\n",
       "      <td>Media</td>\n",
       "      <td>USA</td>\n",
       "      <td>Entertainment</td>\n",
       "      <td>5.099198e+09</td>\n",
       "      <td>591</td>\n",
       "    </tr>\n",
       "    <tr>\n",
       "      <th>4</th>\n",
       "      <td>/ORGANIZATION/MATCHMINE</td>\n",
       "      <td>10000000.0</td>\n",
       "      <td>MatchMine</td>\n",
       "      <td>Media</td>\n",
       "      <td>USA</td>\n",
       "      <td>Entertainment</td>\n",
       "      <td>5.099198e+09</td>\n",
       "      <td>591</td>\n",
       "    </tr>\n",
       "  </tbody>\n",
       "</table>\n",
       "</div>"
      ],
      "text/plain": [
       "               company_permalink  raised_amount_usd                 name  \\\n",
       "0  /ORGANIZATION/ALL-DEF-DIGITAL          5000000.0      All Def Digital   \n",
       "1       /ORGANIZATION/CHEFS-FEED          5000000.0            ChefsFeed   \n",
       "2   /ORGANIZATION/HUFFINGTONPOST          5000000.0  The Huffington Post   \n",
       "3   /ORGANIZATION/HUFFINGTONPOST          5000000.0  The Huffington Post   \n",
       "4        /ORGANIZATION/MATCHMINE         10000000.0            MatchMine   \n",
       "\n",
       "  category_list country_code         Sector           sum  count  \n",
       "0         Media          USA  Entertainment  5.099198e+09    591  \n",
       "1         Media          USA  Entertainment  5.099198e+09    591  \n",
       "2         Media          USA  Entertainment  5.099198e+09    591  \n",
       "3         Media          USA  Entertainment  5.099198e+09    591  \n",
       "4         Media          USA  Entertainment  5.099198e+09    591  "
      ]
     },
     "execution_count": 36,
     "metadata": {},
     "output_type": "execute_result"
    }
   ],
   "source": [
    "D1 = master_frame[(master_frame['country_code'] == 'USA') & \n",
    "             (master_frame['raised_amount_usd'] >= 5000000) & \n",
    "             (master_frame['raised_amount_usd'] <= 15000000)]\n",
    "D1_groupby = D1.groupby(['Sector'])['raised_amount_usd'].agg(['sum', 'count'])\n",
    "D1 = D1.merge(D1_groupby, how='left', on ='Sector')\n",
    "D1.head()"
   ]
  },
  {
   "cell_type": "code",
   "execution_count": 37,
   "metadata": {},
   "outputs": [
    {
     "data": {
      "text/html": [
       "<div>\n",
       "<style scoped>\n",
       "    .dataframe tbody tr th:only-of-type {\n",
       "        vertical-align: middle;\n",
       "    }\n",
       "\n",
       "    .dataframe tbody tr th {\n",
       "        vertical-align: top;\n",
       "    }\n",
       "\n",
       "    .dataframe thead th {\n",
       "        text-align: right;\n",
       "    }\n",
       "</style>\n",
       "<table border=\"1\" class=\"dataframe\">\n",
       "  <thead>\n",
       "    <tr style=\"text-align: right;\">\n",
       "      <th></th>\n",
       "      <th>company_permalink</th>\n",
       "      <th>raised_amount_usd</th>\n",
       "      <th>name</th>\n",
       "      <th>category_list</th>\n",
       "      <th>country_code</th>\n",
       "      <th>Sector</th>\n",
       "      <th>sum</th>\n",
       "      <th>count</th>\n",
       "    </tr>\n",
       "  </thead>\n",
       "  <tbody>\n",
       "    <tr>\n",
       "      <th>0</th>\n",
       "      <td>/ORGANIZATION/90MIN</td>\n",
       "      <td>15000000.0</td>\n",
       "      <td>90min</td>\n",
       "      <td>Media</td>\n",
       "      <td>GBR</td>\n",
       "      <td>Entertainment</td>\n",
       "      <td>4.827847e+08</td>\n",
       "      <td>56</td>\n",
       "    </tr>\n",
       "    <tr>\n",
       "      <th>1</th>\n",
       "      <td>/ORGANIZATION/90MIN</td>\n",
       "      <td>5800000.0</td>\n",
       "      <td>90min</td>\n",
       "      <td>Media</td>\n",
       "      <td>GBR</td>\n",
       "      <td>Entertainment</td>\n",
       "      <td>4.827847e+08</td>\n",
       "      <td>56</td>\n",
       "    </tr>\n",
       "    <tr>\n",
       "      <th>2</th>\n",
       "      <td>/ORGANIZATION/AIHIT</td>\n",
       "      <td>5500000.0</td>\n",
       "      <td>aiHit</td>\n",
       "      <td>Analytics</td>\n",
       "      <td>GBR</td>\n",
       "      <td>Social, Finance, Analytics, Advertising</td>\n",
       "      <td>1.089404e+09</td>\n",
       "      <td>133</td>\n",
       "    </tr>\n",
       "    <tr>\n",
       "      <th>3</th>\n",
       "      <td>/ORGANIZATION/BRANDWATCH</td>\n",
       "      <td>6000000.0</td>\n",
       "      <td>Brandwatch</td>\n",
       "      <td>Analytics</td>\n",
       "      <td>GBR</td>\n",
       "      <td>Social, Finance, Analytics, Advertising</td>\n",
       "      <td>1.089404e+09</td>\n",
       "      <td>133</td>\n",
       "    </tr>\n",
       "    <tr>\n",
       "      <th>4</th>\n",
       "      <td>/ORGANIZATION/DIGITAL-SHADOWS</td>\n",
       "      <td>8000000.0</td>\n",
       "      <td>Digital Shadows</td>\n",
       "      <td>Analytics</td>\n",
       "      <td>GBR</td>\n",
       "      <td>Social, Finance, Analytics, Advertising</td>\n",
       "      <td>1.089404e+09</td>\n",
       "      <td>133</td>\n",
       "    </tr>\n",
       "  </tbody>\n",
       "</table>\n",
       "</div>"
      ],
      "text/plain": [
       "               company_permalink  raised_amount_usd             name  \\\n",
       "0            /ORGANIZATION/90MIN         15000000.0            90min   \n",
       "1            /ORGANIZATION/90MIN          5800000.0            90min   \n",
       "2            /ORGANIZATION/AIHIT          5500000.0            aiHit   \n",
       "3       /ORGANIZATION/BRANDWATCH          6000000.0       Brandwatch   \n",
       "4  /ORGANIZATION/DIGITAL-SHADOWS          8000000.0  Digital Shadows   \n",
       "\n",
       "  category_list country_code                                   Sector  \\\n",
       "0         Media          GBR                            Entertainment   \n",
       "1         Media          GBR                            Entertainment   \n",
       "2     Analytics          GBR  Social, Finance, Analytics, Advertising   \n",
       "3     Analytics          GBR  Social, Finance, Analytics, Advertising   \n",
       "4     Analytics          GBR  Social, Finance, Analytics, Advertising   \n",
       "\n",
       "            sum  count  \n",
       "0  4.827847e+08     56  \n",
       "1  4.827847e+08     56  \n",
       "2  1.089404e+09    133  \n",
       "3  1.089404e+09    133  \n",
       "4  1.089404e+09    133  "
      ]
     },
     "execution_count": 37,
     "metadata": {},
     "output_type": "execute_result"
    }
   ],
   "source": [
    "D2 = master_frame[(master_frame['country_code'] == 'GBR') & \n",
    "             (master_frame['raised_amount_usd'] >= 5000000) & \n",
    "             (master_frame['raised_amount_usd'] <= 15000000)]\n",
    "D2_groupby = D2.groupby(['Sector'])['raised_amount_usd'].agg(['sum', 'count'])\n",
    "D2 = D2.merge(D2_groupby, how='left', on ='Sector')\n",
    "D2.head()"
   ]
  },
  {
   "cell_type": "code",
   "execution_count": 38,
   "metadata": {},
   "outputs": [
    {
     "data": {
      "text/html": [
       "<div>\n",
       "<style scoped>\n",
       "    .dataframe tbody tr th:only-of-type {\n",
       "        vertical-align: middle;\n",
       "    }\n",
       "\n",
       "    .dataframe tbody tr th {\n",
       "        vertical-align: top;\n",
       "    }\n",
       "\n",
       "    .dataframe thead th {\n",
       "        text-align: right;\n",
       "    }\n",
       "</style>\n",
       "<table border=\"1\" class=\"dataframe\">\n",
       "  <thead>\n",
       "    <tr style=\"text-align: right;\">\n",
       "      <th></th>\n",
       "      <th>company_permalink</th>\n",
       "      <th>raised_amount_usd</th>\n",
       "      <th>name</th>\n",
       "      <th>category_list</th>\n",
       "      <th>country_code</th>\n",
       "      <th>Sector</th>\n",
       "      <th>sum</th>\n",
       "      <th>count</th>\n",
       "    </tr>\n",
       "  </thead>\n",
       "  <tbody>\n",
       "    <tr>\n",
       "      <th>0</th>\n",
       "      <td>/ORGANIZATION/-FAME</td>\n",
       "      <td>10000000.0</td>\n",
       "      <td>#fame</td>\n",
       "      <td>Media</td>\n",
       "      <td>IND</td>\n",
       "      <td>Entertainment</td>\n",
       "      <td>280830000.0</td>\n",
       "      <td>33</td>\n",
       "    </tr>\n",
       "    <tr>\n",
       "      <th>1</th>\n",
       "      <td>/ORGANIZATION/EKA-SOFTWARE-SOLUTIONS</td>\n",
       "      <td>6000000.0</td>\n",
       "      <td>Eka Software Solutions</td>\n",
       "      <td>Analytics</td>\n",
       "      <td>IND</td>\n",
       "      <td>Social, Finance, Analytics, Advertising</td>\n",
       "      <td>550549550.0</td>\n",
       "      <td>60</td>\n",
       "    </tr>\n",
       "    <tr>\n",
       "      <th>2</th>\n",
       "      <td>/ORGANIZATION/EKA-SOFTWARE-SOLUTIONS</td>\n",
       "      <td>10000000.0</td>\n",
       "      <td>Eka Software Solutions</td>\n",
       "      <td>Analytics</td>\n",
       "      <td>IND</td>\n",
       "      <td>Social, Finance, Analytics, Advertising</td>\n",
       "      <td>550549550.0</td>\n",
       "      <td>60</td>\n",
       "    </tr>\n",
       "    <tr>\n",
       "      <th>3</th>\n",
       "      <td>/ORGANIZATION/LOGINEXT-SOLUTIONS</td>\n",
       "      <td>10000000.0</td>\n",
       "      <td>LogiNext Solutions</td>\n",
       "      <td>Analytics</td>\n",
       "      <td>IND</td>\n",
       "      <td>Social, Finance, Analytics, Advertising</td>\n",
       "      <td>550549550.0</td>\n",
       "      <td>60</td>\n",
       "    </tr>\n",
       "    <tr>\n",
       "      <th>4</th>\n",
       "      <td>/ORGANIZATION/MANTHAN-SYSTEMS</td>\n",
       "      <td>5700000.0</td>\n",
       "      <td>Manthan Systems</td>\n",
       "      <td>Analytics</td>\n",
       "      <td>IND</td>\n",
       "      <td>Social, Finance, Analytics, Advertising</td>\n",
       "      <td>550549550.0</td>\n",
       "      <td>60</td>\n",
       "    </tr>\n",
       "  </tbody>\n",
       "</table>\n",
       "</div>"
      ],
      "text/plain": [
       "                      company_permalink  raised_amount_usd  \\\n",
       "0                   /ORGANIZATION/-FAME         10000000.0   \n",
       "1  /ORGANIZATION/EKA-SOFTWARE-SOLUTIONS          6000000.0   \n",
       "2  /ORGANIZATION/EKA-SOFTWARE-SOLUTIONS         10000000.0   \n",
       "3      /ORGANIZATION/LOGINEXT-SOLUTIONS         10000000.0   \n",
       "4         /ORGANIZATION/MANTHAN-SYSTEMS          5700000.0   \n",
       "\n",
       "                     name category_list country_code  \\\n",
       "0                   #fame         Media          IND   \n",
       "1  Eka Software Solutions     Analytics          IND   \n",
       "2  Eka Software Solutions     Analytics          IND   \n",
       "3      LogiNext Solutions     Analytics          IND   \n",
       "4         Manthan Systems     Analytics          IND   \n",
       "\n",
       "                                    Sector          sum  count  \n",
       "0                            Entertainment  280830000.0     33  \n",
       "1  Social, Finance, Analytics, Advertising  550549550.0     60  \n",
       "2  Social, Finance, Analytics, Advertising  550549550.0     60  \n",
       "3  Social, Finance, Analytics, Advertising  550549550.0     60  \n",
       "4  Social, Finance, Analytics, Advertising  550549550.0     60  "
      ]
     },
     "execution_count": 38,
     "metadata": {},
     "output_type": "execute_result"
    }
   ],
   "source": [
    "D3 = master_frame[(master_frame['country_code'] == 'IND') & \n",
    "             (master_frame['raised_amount_usd'] >= 5000000) & \n",
    "             (master_frame['raised_amount_usd'] <= 15000000)]\n",
    "D3_groupby = D3.groupby(['Sector'])['raised_amount_usd'].agg(['sum', 'count'])\n",
    "D3 = D3.merge(D3_groupby, how='left', on ='Sector')\n",
    "D3.head()"
   ]
  },
  {
   "cell_type": "markdown",
   "metadata": {},
   "source": [
    "###  Total number of investments (count)"
   ]
  },
  {
   "cell_type": "code",
   "execution_count": 39,
   "metadata": {},
   "outputs": [
    {
     "name": "stdout",
     "output_type": "stream",
     "text": [
      "12012\n",
      "619\n",
      "328\n"
     ]
    }
   ],
   "source": [
    "print(D1.raised_amount_usd.count())\n",
    "print(D2.raised_amount_usd.count())\n",
    "print(D3.raised_amount_usd.count())"
   ]
  },
  {
   "cell_type": "markdown",
   "metadata": {},
   "source": [
    "### Total amount of investment (USD)"
   ]
  },
  {
   "cell_type": "code",
   "execution_count": 40,
   "metadata": {},
   "outputs": [
    {
     "name": "stdout",
     "output_type": "stream",
     "text": [
      "107318294664.0\n",
      "5365228300.0\n",
      "2949543602.0\n"
     ]
    }
   ],
   "source": [
    "print(D1.raised_amount_usd.sum())\n",
    "print(D2.raised_amount_usd.sum())\n",
    "print(D3.raised_amount_usd.sum())"
   ]
  },
  {
   "cell_type": "markdown",
   "metadata": {},
   "source": [
    "## Top sector, second-top, third-top for D1 (based on count of investments)\n",
    "### Number of investments in the top, second-top, third-top sector in D1"
   ]
  },
  {
   "cell_type": "code",
   "execution_count": 41,
   "metadata": {},
   "outputs": [
    {
     "name": "stdout",
     "output_type": "stream",
     "text": [
      "                                                  sum  count\n",
      "Sector                                                      \n",
      "Others                                   2.632101e+10   2950\n",
      "Social, Finance, Analytics, Advertising  2.380738e+10   2714\n",
      "Cleantech / Semiconductors               2.120663e+10   2300\n",
      "News, Search and Messaging               1.395957e+10   1582\n",
      "Health                                   8.211859e+09    909\n",
      "Manufacturing                            7.258553e+09    799\n",
      "Entertainment                            5.099198e+09    591\n",
      "Automotive & Sports                      1.454104e+09    167\n"
     ]
    }
   ],
   "source": [
    "print(D1_groupby.sort_values('count',ascending=False))"
   ]
  },
  {
   "cell_type": "markdown",
   "metadata": {},
   "source": [
    "## Top sector, second-top, third-top for D2 (based on count of investments)\n",
    "### Number of investments in the top, second-top, third-top sector in D2"
   ]
  },
  {
   "cell_type": "code",
   "execution_count": 42,
   "metadata": {},
   "outputs": [
    {
     "name": "stdout",
     "output_type": "stream",
     "text": [
      "                                                  sum  count\n",
      "Sector                                                      \n",
      "Others                                   1.283624e+09    147\n",
      "Social, Finance, Analytics, Advertising  1.089404e+09    133\n",
      "Cleantech / Semiconductors               1.150140e+09    128\n",
      "News, Search and Messaging               6.157462e+08     73\n",
      "Entertainment                            4.827847e+08     56\n",
      "Manufacturing                            3.619403e+08     42\n",
      "Health                                   2.145375e+08     24\n",
      "Automotive & Sports                      1.670516e+08     16\n"
     ]
    }
   ],
   "source": [
    "print(D2_groupby.sort_values('count',ascending=False))"
   ]
  },
  {
   "cell_type": "markdown",
   "metadata": {},
   "source": [
    "## Top sector, second-top, third-top for D3 (based on count of investments)\n",
    "### Number of investments in the top, second-top, third-top sector in D3"
   ]
  },
  {
   "cell_type": "code",
   "execution_count": 43,
   "metadata": {},
   "outputs": [
    {
     "name": "stdout",
     "output_type": "stream",
     "text": [
      "                                                  sum  count\n",
      "Sector                                                      \n",
      "Others                                   1.013410e+09    110\n",
      "Social, Finance, Analytics, Advertising  5.505496e+08     60\n",
      "News, Search and Messaging               4.338345e+08     52\n",
      "Entertainment                            2.808300e+08     33\n",
      "Manufacturing                            2.009000e+08     21\n",
      "Cleantech / Semiconductors               1.653800e+08     20\n",
      "Health                                   1.677400e+08     19\n",
      "Automotive & Sports                      1.369000e+08     13\n"
     ]
    }
   ],
   "source": [
    "print(D3_groupby.sort_values('count',ascending=False))"
   ]
  },
  {
   "cell_type": "code",
   "execution_count": 44,
   "metadata": {},
   "outputs": [
    {
     "name": "stdout",
     "output_type": "stream",
     "text": [
      "              company_permalink  raised_amount_usd\n",
      "1942  /ORGANIZATION/VIRTUSTREAM         64300000.0\n",
      "              company_permalink  raised_amount_usd\n",
      "1430  /ORGANIZATION/SHOTSPOTTER         67933006.0\n"
     ]
    }
   ],
   "source": [
    "#For the top sector USA , which company received the highest investment?\n",
    "company = D1[D1['Sector']=='Others']\n",
    "company = company.groupby(['company_permalink'])['raised_amount_usd'].agg('sum').reset_index().sort_values('raised_amount_usd',ascending=False)\n",
    "print(company.head(1))\n",
    "\n",
    "#For the second top sector USA , which company received the highest investment?\n",
    "company = D1[D1['Sector']=='Social, Finance, Analytics, Advertising']\n",
    "company = company.groupby(['company_permalink'])['raised_amount_usd'].agg('sum').reset_index().sort_values('raised_amount_usd',ascending=False)\n",
    "print(company.head(1))"
   ]
  },
  {
   "cell_type": "code",
   "execution_count": 45,
   "metadata": {},
   "outputs": [
    {
     "name": "stdout",
     "output_type": "stream",
     "text": [
      "               company_permalink  raised_amount_usd\n",
      "35  /ORGANIZATION/ELECTRIC-CLOUD         37000000.0\n",
      "                      company_permalink  raised_amount_usd\n",
      "21  /ORGANIZATION/CELLTICK-TECHNOLOGIES         37500000.0\n"
     ]
    }
   ],
   "source": [
    "#For the top sector GBR , which company received the highest investment?\n",
    "company = D2[D2['Sector']=='Others']\n",
    "company = company.groupby(['company_permalink'])['raised_amount_usd'].agg('sum').reset_index().sort_values('raised_amount_usd',ascending=False)\n",
    "print(company.head(1))\n",
    "\n",
    "#For the second top sector GBR , which company received the highest investment?\n",
    "company = D2[D2['Sector']=='Social, Finance, Analytics, Advertising']\n",
    "company = company.groupby(['company_permalink'])['raised_amount_usd'].agg('sum').reset_index().sort_values('raised_amount_usd',ascending=False)\n",
    "print(company.head(1))"
   ]
  },
  {
   "cell_type": "code",
   "execution_count": 46,
   "metadata": {},
   "outputs": [
    {
     "name": "stdout",
     "output_type": "stream",
     "text": [
      "             company_permalink  raised_amount_usd\n",
      "27  /ORGANIZATION/FIRSTCRY-COM         39000000.0\n",
      "                company_permalink  raised_amount_usd\n",
      "31  /ORGANIZATION/MANTHAN-SYSTEMS         50700000.0\n"
     ]
    }
   ],
   "source": [
    "#For the top sector IND , which company received the highest investment?\n",
    "company = D3[D3['Sector']=='Others']\n",
    "company = company.groupby(['company_permalink'])['raised_amount_usd'].agg('sum').reset_index().sort_values('raised_amount_usd',ascending=False)\n",
    "print(company.head(1))\n",
    "\n",
    "#For the second top sector IND , which company received the highest investment?\n",
    "company = D3[D3['Sector']=='Social, Finance, Analytics, Advertising']\n",
    "company = company.groupby(['company_permalink'])['raised_amount_usd'].agg('sum').reset_index().sort_values('raised_amount_usd',ascending=False)\n",
    "print(company.head(1))"
   ]
  },
  {
   "cell_type": "code",
   "execution_count": 47,
   "metadata": {},
   "outputs": [],
   "source": [
    "USA = D1_groupby.sort_values('count',ascending=False).head(n=3)\n",
    "USA['Country'] = 'USA'\n",
    "GBR = D2_groupby.sort_values('count',ascending=False).head(n=3)\n",
    "GBR['Country'] = 'GBR'\n",
    "IND = D3_groupby.sort_values('count',ascending=False).head(n=3)\n",
    "IND['Country'] = 'IND'\n",
    "ALL=pd.concat([USA,GBR,IND]).reset_index()"
   ]
  },
  {
   "cell_type": "code",
   "execution_count": 48,
   "metadata": {},
   "outputs": [
    {
     "data": {
      "image/png": "[encoded data removed]",
      "text/plain": [
       "<Figure size 720x360 with 1 Axes>"
      ]
     },
     "metadata": {
      "needs_background": "light"
     },
     "output_type": "display_data"
    }
   ],
   "source": [
    "plt.figure(figsize=[10,5])\n",
    "sns.barplot(x='Country', y='count', hue='Sector',data=ALL)\n",
    "plt.ylabel(\"Total Investment Count\")\n",
    "plt.xlabel(\"Top 3 Countries\")\n",
    "plt.title(\"Number of Investments in the Top 3 Sectors of the Top 3 Countries\") \n",
    "plt.show()"
   ]
  },
  {
   "cell_type": "code",
   "execution_count": null,
   "metadata": {},
   "outputs": [],
   "source": []
  }
 ],
 "metadata": {
  "kernelspec": {
   "display_name": "Python 3",
   "language": "python",
   "name": "python3"
  },
  "language_info": {
   "codemirror_mode": {
    "name": "ipython",
    "version": 3
   },
   "file_extension": ".py",
   "mimetype": "text/x-python",
   "name": "python",
   "nbconvert_exporter": "python",
   "pygments_lexer": "ipython3",
   "version": "3.7.3"
  }
 },
 "nbformat": 4,
 "nbformat_minor": 4
}
